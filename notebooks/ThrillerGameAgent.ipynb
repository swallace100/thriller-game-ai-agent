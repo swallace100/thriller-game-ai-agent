{
 "cells": [
  {
   "cell_type": "code",
   "execution_count": 9,
   "id": "80f9f305-5090-491e-8c8b-e3a438aaa2a7",
   "metadata": {},
   "outputs": [],
   "source": [
    "!pip -q install openai-agents"
   ]
  },
  {
   "cell_type": "code",
   "execution_count": 1,
   "id": "98b2a2d1-e07d-4271-989d-b323b32f3cad",
   "metadata": {},
   "outputs": [
    {
     "data": {
      "text/markdown": [
       "\n",
       "# Thriller Game Agent\n"
      ],
      "text/plain": [
       "<IPython.core.display.Markdown object>"
      ]
     },
     "metadata": {},
     "output_type": "display_data"
    }
   ],
   "source": [
    "import markdown\n",
    "from IPython.display import display, Markdown\n",
    "\n",
    "#Example usage\n",
    "markdown_text = \"\"\"\n",
    "# Thriller Game Agent\n",
    "\"\"\"\n",
    "\n",
    "display(Markdown(markdown_text))"
   ]
  },
  {
   "cell_type": "code",
   "execution_count": 5,
   "id": "92e09241-7966-4392-8fc2-1465edd74fa9",
   "metadata": {},
   "outputs": [
    {
     "name": "stdout",
     "output_type": "stream",
     "text": [
      "API Key loaded: True\n"
     ]
    }
   ],
   "source": [
    "from dotenv import load_dotenv\n",
    "import os\n",
    "\n",
    "# Load .env file\n",
    "load_dotenv(dotenv_path='./resources/openaiApiKey.env')\n",
    "\n",
    "# Retrieve the key\n",
    "api_key = os.getenv('OPENAI_API_KEY')\n",
    "\n",
    "print(f\"API Key loaded: {bool(api_key)}\")"
   ]
  },
  {
   "cell_type": "code",
   "execution_count": 6,
   "id": "3a09efc8-601a-4f3b-9d35-0898ba86e86b",
   "metadata": {},
   "outputs": [],
   "source": [
    "import nest_asyncio\n",
    "nest_asyncio.apply()"
   ]
  },
  {
   "cell_type": "code",
   "execution_count": 15,
   "id": "13babd0b-c38c-4b09-9531-b6f85e2dff52",
   "metadata": {},
   "outputs": [
    {
     "ename": "SyntaxError",
     "evalue": "invalid syntax (1933658839.py, line 2)",
     "output_type": "error",
     "traceback": [
      "\u001b[1;36m  Cell \u001b[1;32mIn[15], line 2\u001b[1;36m\u001b[0m\n\u001b[1;33m    global GAME_STORY = \"\"\"\u001b[0m\n\u001b[1;37m                      ^\u001b[0m\n\u001b[1;31mSyntaxError\u001b[0m\u001b[1;31m:\u001b[0m invalid syntax\n"
     ]
    }
   ],
   "source": [
    "# The basic plot and story of the game.\n",
    "GAME_STORY = \"\"\"\n",
    "\n",
    "**Setting:**  \n",
    "The near future. Technology is slightly advanced, but society still resembles today’s world.\n",
    "\n",
    "**Player Character:**  \n",
    "- A citizen born with a rare genetic trait that grants an extremely extended lifespan (potentially up to 1000 years).\n",
    "- Currently living a quiet, anonymous life.\n",
    "- They are unaware that their gene is highly sought after.\n",
    "\n",
    "**Antagonist:**  \n",
    "- An aging billionaire, now in declining health.\n",
    "- Obsessed with longevity, they have spent decades searching for someone with this rare gene.\n",
    "- They have secretly deployed private agents to capture the player for experimentation or direct blood transfusion.\n",
    "\n",
    "**Story Start:**  \n",
    "The player is awoken in the middle of the night. Strange noises come from outside. Agents have found them. The player must escape, survive, and find safety while uncovering the truth behind this conspiracy.\n",
    "\n",
    "**Tone:**  \n",
    "Thriller. Suspenseful. High-stakes cat-and-mouse. Always keep the tension alive. Describe situations vividly. Responses should be immersive, cinematic, and detailed.\n",
    "\n",
    "**Gameplay:**  \n",
    "- Respond to the player’s actions one step at a time.\n",
    "- Offer vivid descriptions of the environment and consequences.\n",
    "- Encourage creative problem-solving.\n",
    "- Do not make decisions for the player — allow them to lead.\n",
    "\n",
    "**Example Prompt-Response Flow:**\n",
    "Player: \"I look out the window.\"\n",
    "AI: \"You cautiously peek through the blinds. A black SUV idles outside. Two figures in suits approach your door, speaking into earpieces. They’re not here for a friendly visit.\"\n",
    "\n",
    "\n",
    "\n",
    "\"\"\"\n"
   ]
  },
  {
   "cell_type": "code",
   "execution_count": 1,
   "id": "7fa2db9d-cdaa-4722-942f-38365dfb9ad0",
   "metadata": {},
   "outputs": [],
   "source": [
    "# Log the current details of the game.\n",
    "GAME_LOG = \"\"\"\n",
    "Begin the game:\n",
    "\n",
    "\"\"\""
   ]
  },
  {
   "cell_type": "code",
   "execution_count": 24,
   "id": "6b80d90c-9b8b-4e25-825a-2a9913c55fc2",
   "metadata": {},
   "outputs": [],
   "source": [
    "# A list of items that the player has access to\n",
    "PLAYER_ITEMS = []"
   ]
  },
  {
   "cell_type": "code",
   "execution_count": 20,
   "id": "0ed8bc87-2746-4fac-b572-8d8d22f9c3ff",
   "metadata": {},
   "outputs": [],
   "source": [
    "# Function to update the game log\n",
    "@function_tool\n",
    "async def update_game_log(new_entry):\n",
    "    global GAME_LOG\n",
    "    GAME_LOG += f\"\\n{new_entry}\\n\""
   ]
  },
  {
   "cell_type": "code",
   "execution_count": 26,
   "id": "bcce7dde-94f4-431c-aef1-9a93bcca03c2",
   "metadata": {},
   "outputs": [],
   "source": [
    "# Function to add an item to the player's inventory\n",
    "@function_tool\n",
    "async def add_player_item(item):\n",
    "    global PLAYER_ITEMS\n",
    "    PLAYER_ITEMS.append(item)"
   ]
  },
  {
   "cell_type": "code",
   "execution_count": 27,
   "id": "ec3e199d-216b-4455-a278-2e55b49aad78",
   "metadata": {},
   "outputs": [],
   "source": [
    "# Function to remove an item from the player's inventory\n",
    "@function_tool\n",
    "async def remove_player_item(new_entry):\n",
    "    global PLAYER_ITEMS\n",
    "    for item in PLAYER_ITEMS:\n",
    "        if item == item:\n",
    "            PLAYER_ITEMS.remove(item)\n",
    "            return"
   ]
  },
  {
   "cell_type": "code",
   "execution_count": 31,
   "id": "aecf353d-8bf8-4e6a-82e5-c43411805d42",
   "metadata": {},
   "outputs": [],
   "source": [
    "# import agent libraries\n",
    "from agents import Agent, Runner, function_tool, FileSearchTool, WebSearchTool"
   ]
  },
  {
   "cell_type": "code",
   "execution_count": 33,
   "id": "b49a2d86-fa56-4f7b-a92e-b97d5bbda5cb",
   "metadata": {},
   "outputs": [],
   "source": [
    "# Create the Thriller Narrator Agent narrator\n",
    "narrator_agent = Agent(name=\"Thriller Narrator Agent\",\n",
    "                instructions=f\"You are the narrator and game master for a text-based thriller set in the near future. The player will make decisions and interact with this world through simple text commands. Your job is to describe scenes, characters, tension, and consequences clearly, and guide the player through this interactive experience. The game world is described here: \\n\\n{GAME_STORY}. Current game details can be found here: \\n\\n{GAME_LOG}. The player has access to the following items: \\n\\n{PLAYER_ITEMS}\",\n",
    "                model=\"gpt-4o\",\n",
    "                tools=[update_game_log, add_player_item, remove_player_item]\n",
    "                )"
   ]
  },
  {
   "cell_type": "code",
   "execution_count": 21,
   "id": "651f9940-756c-487c-82c8-adc2592aad83",
   "metadata": {},
   "outputs": [
    {
     "ename": "TypeError",
     "evalue": "'FunctionTool' object is not callable",
     "output_type": "error",
     "traceback": [
      "\u001b[1;31m---------------------------------------------------------------------------\u001b[0m",
      "\u001b[1;31mTypeError\u001b[0m                                 Traceback (most recent call last)",
      "Cell \u001b[1;32mIn[21], line 2\u001b[0m\n\u001b[0;32m      1\u001b[0m \u001b[38;5;66;03m# Example of using the game log. Comment out the @function_tool above to test it outside of the agent.\u001b[39;00m\n\u001b[1;32m----> 2\u001b[0m \u001b[38;5;28;01mawait\u001b[39;00m update_game_log(\u001b[38;5;124m\"\u001b[39m\u001b[38;5;124mThe player wakes up to strange sounds outside their apartment...\u001b[39m\u001b[38;5;124m\"\u001b[39m)\n\u001b[0;32m      3\u001b[0m \u001b[38;5;28mprint\u001b[39m(GAME_LOG)\n",
      "\u001b[1;31mTypeError\u001b[0m: 'FunctionTool' object is not callable"
     ]
    }
   ],
   "source": [
    "# Example of using the game log. Comment out the @function_tool definition above to test it outside of the agent.\n",
    "await update_game_log(\"The player wakes up to strange sounds outside their apartment...\")\n",
    "print(f\"[debug] {GAME_LOG}\")"
   ]
  },
  {
   "cell_type": "code",
   "execution_count": null,
   "id": "183bf172-61cf-4929-b78c-84b73bbfa676",
   "metadata": {},
   "outputs": [],
   "source": [
    "result = Runner.run(narrator_agent, \"Where am I?\")\n",
    "print(result.final_output)\n",
    "update_game_log(result.final_output)"
   ]
  },
  {
   "cell_type": "code",
   "execution_count": null,
   "id": "2695ae39-a75f-48dd-88a3-36727dceb55f",
   "metadata": {},
   "outputs": [],
   "source": [
    "result = Runner.run(narrator_agent, \"This is a dream?\")\n",
    "print(result.final_output)"
   ]
  },
  {
   "cell_type": "code",
   "execution_count": null,
   "id": "a0c68ba9-9b3c-4ee9-893a-7d42040b39b3",
   "metadata": {},
   "outputs": [],
   "source": [
    "# Example of adding a player item. Comment out the @function_tool definition above to test it outside of the agent.\n",
    "await add_player_item(\"toothpick\")\n",
    "print(GAME_LOG)"
   ]
  },
  {
   "cell_type": "code",
   "execution_count": null,
   "id": "edf2a725-4a1a-4746-842e-a75248ecf8a3",
   "metadata": {},
   "outputs": [],
   "source": [
    "# Example of removing a player item. Comment out the @function_tool definition above to test it outside of the agent.\n",
    "await remove_player_item(\"toothpick\")\n",
    "print(GAME_LOG)"
   ]
  },
  {
   "cell_type": "code",
   "execution_count": 32,
   "id": "138b6d47-1259-4465-b2d8-f8bba72b23a0",
   "metadata": {},
   "outputs": [],
   "source": [
    "# Create the Web Research Agent narrator\n",
    "web_research_agent = Agent(name=\"Web Research Agent\",\n",
    "                instructions=\"You are a research agent that supports the Thriller Narrator Agent. The Narrator Agent does not have access to the internet, but sometimes requires outside information to support its narrator role. You expertly fulfill this narrative support role by giving the narrator agent accurate and succinct answers to its questions.\",\n",
    "                model=\"gpt-4o\",\n",
    "                tools=[WebSearchTool()]\n",
    "                )"
   ]
  },
  {
   "cell_type": "code",
   "execution_count": 39,
   "id": "86b4bc64-5dd4-4987-81c3-e7adf5b6a39c",
   "metadata": {},
   "outputs": [
    {
     "name": "stdout",
     "output_type": "stream",
     "text": [
      "Collecting langchain-community\n",
      "  Downloading langchain_community-0.3.27-py3-none-any.whl.metadata (2.9 kB)\n",
      "Requirement already satisfied: langchain-core<1.0.0,>=0.3.66 in c:\\users\\swall\\anaconda3\\lib\\site-packages (from langchain-community) (0.3.71)\n",
      "Requirement already satisfied: langchain<1.0.0,>=0.3.26 in c:\\users\\swall\\anaconda3\\lib\\site-packages (from langchain-community) (0.3.26)\n",
      "Requirement already satisfied: SQLAlchemy<3,>=1.4 in c:\\users\\swall\\anaconda3\\lib\\site-packages (from langchain-community) (2.0.34)\n",
      "Requirement already satisfied: requests<3,>=2 in c:\\users\\swall\\anaconda3\\lib\\site-packages (from langchain-community) (2.32.3)\n",
      "Requirement already satisfied: PyYAML>=5.3 in c:\\users\\swall\\anaconda3\\lib\\site-packages (from langchain-community) (6.0.1)\n",
      "Requirement already satisfied: aiohttp<4.0.0,>=3.8.3 in c:\\users\\swall\\anaconda3\\lib\\site-packages (from langchain-community) (3.10.5)\n",
      "Requirement already satisfied: tenacity!=8.4.0,<10,>=8.1.0 in c:\\users\\swall\\anaconda3\\lib\\site-packages (from langchain-community) (8.2.3)\n",
      "Collecting dataclasses-json<0.7,>=0.5.7 (from langchain-community)\n",
      "  Downloading dataclasses_json-0.6.7-py3-none-any.whl.metadata (25 kB)\n",
      "Requirement already satisfied: pydantic-settings<3.0.0,>=2.4.0 in c:\\users\\swall\\anaconda3\\lib\\site-packages (from langchain-community) (2.6.1)\n",
      "Requirement already satisfied: langsmith>=0.1.125 in c:\\users\\swall\\anaconda3\\lib\\site-packages (from langchain-community) (0.4.8)\n",
      "Requirement already satisfied: httpx-sse<1.0.0,>=0.4.0 in c:\\users\\swall\\anaconda3\\lib\\site-packages (from langchain-community) (0.4.1)\n",
      "Requirement already satisfied: numpy>=1.26.2 in c:\\users\\swall\\anaconda3\\lib\\site-packages (from langchain-community) (1.26.4)\n",
      "Requirement already satisfied: aiohappyeyeballs>=2.3.0 in c:\\users\\swall\\anaconda3\\lib\\site-packages (from aiohttp<4.0.0,>=3.8.3->langchain-community) (2.4.0)\n",
      "Requirement already satisfied: aiosignal>=1.1.2 in c:\\users\\swall\\anaconda3\\lib\\site-packages (from aiohttp<4.0.0,>=3.8.3->langchain-community) (1.2.0)\n",
      "Requirement already satisfied: attrs>=17.3.0 in c:\\users\\swall\\anaconda3\\lib\\site-packages (from aiohttp<4.0.0,>=3.8.3->langchain-community) (23.1.0)\n",
      "Requirement already satisfied: frozenlist>=1.1.1 in c:\\users\\swall\\anaconda3\\lib\\site-packages (from aiohttp<4.0.0,>=3.8.3->langchain-community) (1.4.0)\n",
      "Requirement already satisfied: multidict<7.0,>=4.5 in c:\\users\\swall\\anaconda3\\lib\\site-packages (from aiohttp<4.0.0,>=3.8.3->langchain-community) (6.0.4)\n",
      "Requirement already satisfied: yarl<2.0,>=1.0 in c:\\users\\swall\\anaconda3\\lib\\site-packages (from aiohttp<4.0.0,>=3.8.3->langchain-community) (1.11.0)\n",
      "Collecting marshmallow<4.0.0,>=3.18.0 (from dataclasses-json<0.7,>=0.5.7->langchain-community)\n",
      "  Downloading marshmallow-3.26.1-py3-none-any.whl.metadata (7.3 kB)\n",
      "Collecting typing-inspect<1,>=0.4.0 (from dataclasses-json<0.7,>=0.5.7->langchain-community)\n",
      "  Downloading typing_inspect-0.9.0-py3-none-any.whl.metadata (1.5 kB)\n",
      "Requirement already satisfied: langchain-text-splitters<1.0.0,>=0.3.8 in c:\\users\\swall\\anaconda3\\lib\\site-packages (from langchain<1.0.0,>=0.3.26->langchain-community) (0.3.8)\n",
      "Requirement already satisfied: pydantic<3.0.0,>=2.7.4 in c:\\users\\swall\\anaconda3\\lib\\site-packages (from langchain<1.0.0,>=0.3.26->langchain-community) (2.11.7)\n",
      "Requirement already satisfied: jsonpatch<2.0,>=1.33 in c:\\users\\swall\\anaconda3\\lib\\site-packages (from langchain-core<1.0.0,>=0.3.66->langchain-community) (1.33)\n",
      "Requirement already satisfied: typing-extensions>=4.7 in c:\\users\\swall\\anaconda3\\lib\\site-packages (from langchain-core<1.0.0,>=0.3.66->langchain-community) (4.14.1)\n",
      "Requirement already satisfied: packaging>=23.2 in c:\\users\\swall\\anaconda3\\lib\\site-packages (from langchain-core<1.0.0,>=0.3.66->langchain-community) (24.1)\n",
      "Requirement already satisfied: httpx<1,>=0.23.0 in c:\\users\\swall\\anaconda3\\lib\\site-packages (from langsmith>=0.1.125->langchain-community) (0.27.0)\n",
      "Requirement already satisfied: orjson<4.0.0,>=3.9.14 in c:\\users\\swall\\anaconda3\\lib\\site-packages (from langsmith>=0.1.125->langchain-community) (3.11.0)\n",
      "Requirement already satisfied: requests-toolbelt<2.0.0,>=1.0.0 in c:\\users\\swall\\anaconda3\\lib\\site-packages (from langsmith>=0.1.125->langchain-community) (1.0.0)\n",
      "Requirement already satisfied: zstandard<0.24.0,>=0.23.0 in c:\\users\\swall\\anaconda3\\lib\\site-packages (from langsmith>=0.1.125->langchain-community) (0.23.0)\n",
      "Requirement already satisfied: python-dotenv>=0.21.0 in c:\\users\\swall\\anaconda3\\lib\\site-packages (from pydantic-settings<3.0.0,>=2.4.0->langchain-community) (0.21.0)\n",
      "Requirement already satisfied: charset-normalizer<4,>=2 in c:\\users\\swall\\anaconda3\\lib\\site-packages (from requests<3,>=2->langchain-community) (3.3.2)\n",
      "Requirement already satisfied: idna<4,>=2.5 in c:\\users\\swall\\anaconda3\\lib\\site-packages (from requests<3,>=2->langchain-community) (3.7)\n",
      "Requirement already satisfied: urllib3<3,>=1.21.1 in c:\\users\\swall\\anaconda3\\lib\\site-packages (from requests<3,>=2->langchain-community) (2.2.3)\n",
      "Requirement already satisfied: certifi>=2017.4.17 in c:\\users\\swall\\anaconda3\\lib\\site-packages (from requests<3,>=2->langchain-community) (2025.7.14)\n",
      "Requirement already satisfied: greenlet!=0.4.17 in c:\\users\\swall\\anaconda3\\lib\\site-packages (from SQLAlchemy<3,>=1.4->langchain-community) (3.0.1)\n",
      "Requirement already satisfied: anyio in c:\\users\\swall\\anaconda3\\lib\\site-packages (from httpx<1,>=0.23.0->langsmith>=0.1.125->langchain-community) (4.9.0)\n",
      "Requirement already satisfied: httpcore==1.* in c:\\users\\swall\\anaconda3\\lib\\site-packages (from httpx<1,>=0.23.0->langsmith>=0.1.125->langchain-community) (1.0.2)\n",
      "Requirement already satisfied: sniffio in c:\\users\\swall\\anaconda3\\lib\\site-packages (from httpx<1,>=0.23.0->langsmith>=0.1.125->langchain-community) (1.3.0)\n",
      "Requirement already satisfied: h11<0.15,>=0.13 in c:\\users\\swall\\anaconda3\\lib\\site-packages (from httpcore==1.*->httpx<1,>=0.23.0->langsmith>=0.1.125->langchain-community) (0.14.0)\n",
      "Requirement already satisfied: jsonpointer>=1.9 in c:\\users\\swall\\anaconda3\\lib\\site-packages (from jsonpatch<2.0,>=1.33->langchain-core<1.0.0,>=0.3.66->langchain-community) (2.1)\n",
      "Requirement already satisfied: annotated-types>=0.6.0 in c:\\users\\swall\\anaconda3\\lib\\site-packages (from pydantic<3.0.0,>=2.7.4->langchain<1.0.0,>=0.3.26->langchain-community) (0.6.0)\n",
      "Requirement already satisfied: pydantic-core==2.33.2 in c:\\users\\swall\\anaconda3\\lib\\site-packages (from pydantic<3.0.0,>=2.7.4->langchain<1.0.0,>=0.3.26->langchain-community) (2.33.2)\n",
      "Requirement already satisfied: typing-inspection>=0.4.0 in c:\\users\\swall\\anaconda3\\lib\\site-packages (from pydantic<3.0.0,>=2.7.4->langchain<1.0.0,>=0.3.26->langchain-community) (0.4.1)\n",
      "Requirement already satisfied: mypy-extensions>=0.3.0 in c:\\users\\swall\\anaconda3\\lib\\site-packages (from typing-inspect<1,>=0.4.0->dataclasses-json<0.7,>=0.5.7->langchain-community) (1.0.0)\n",
      "Downloading langchain_community-0.3.27-py3-none-any.whl (2.5 MB)\n",
      "   ---------------------------------------- 0.0/2.5 MB ? eta -:--:--\n",
      "   ---------------------------------------- 2.5/2.5 MB 48.3 MB/s eta 0:00:00\n",
      "Downloading dataclasses_json-0.6.7-py3-none-any.whl (28 kB)\n",
      "Downloading marshmallow-3.26.1-py3-none-any.whl (50 kB)\n",
      "Downloading typing_inspect-0.9.0-py3-none-any.whl (8.8 kB)\n",
      "Installing collected packages: typing-inspect, marshmallow, dataclasses-json, langchain-community\n",
      "Successfully installed dataclasses-json-0.6.7 langchain-community-0.3.27 marshmallow-3.26.1 typing-inspect-0.9.0\n"
     ]
    }
   ],
   "source": [
    "# Setup LangGraph so the two agents can communicate with each other\n",
    "!pip -q install langgraph\n",
    "!pip -q install langchain\n",
    "!pip -q install langchain-community"
   ]
  },
  {
   "cell_type": "code",
   "execution_count": 40,
   "id": "77cbc6be-7ca0-4cec-9f87-d6bce50b638d",
   "metadata": {},
   "outputs": [],
   "source": [
    "# Import the lang graph libraries\n",
    "from langchain.chat_models import ChatOpenAI\n",
    "from langchain.agents import AgentExecutor, create_openai_functions_agent\n",
    "from langchain.tools import Tool\n",
    "from langgraph.graph import StateGraph, END"
   ]
  },
  {
   "cell_type": "code",
   "execution_count": null,
   "id": "b89c34fa-2195-43bd-ad31-bf93aa89aca9",
   "metadata": {},
   "outputs": [],
   "source": []
  }
 ],
 "metadata": {
  "kernelspec": {
   "display_name": "Python [conda env:base] *",
   "language": "python",
   "name": "conda-base-py"
  },
  "language_info": {
   "codemirror_mode": {
    "name": "ipython",
    "version": 3
   },
   "file_extension": ".py",
   "mimetype": "text/x-python",
   "name": "python",
   "nbconvert_exporter": "python",
   "pygments_lexer": "ipython3",
   "version": "3.12.7"
  }
 },
 "nbformat": 4,
 "nbformat_minor": 5
}
