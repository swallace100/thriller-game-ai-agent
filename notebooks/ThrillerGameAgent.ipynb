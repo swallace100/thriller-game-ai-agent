{
 "cells": [
  {
   "cell_type": "code",
   "execution_count": 9,
   "id": "80f9f305-5090-491e-8c8b-e3a438aaa2a7",
   "metadata": {},
   "outputs": [],
   "source": [
    "!pip -q install openai-agents"
   ]
  },
  {
   "cell_type": "code",
   "execution_count": 1,
   "id": "98b2a2d1-e07d-4271-989d-b323b32f3cad",
   "metadata": {},
   "outputs": [
    {
     "data": {
      "text/markdown": [
       "\n",
       "# Thriller Game Agent\n"
      ],
      "text/plain": [
       "<IPython.core.display.Markdown object>"
      ]
     },
     "metadata": {},
     "output_type": "display_data"
    }
   ],
   "source": [
    "import markdown\n",
    "from IPython.display import display, Markdown\n",
    "\n",
    "#Example usage\n",
    "markdown_text = \"\"\"\n",
    "# Thriller Game Agent\n",
    "\"\"\"\n",
    "\n",
    "display(Markdown(markdown_text))"
   ]
  },
  {
   "cell_type": "code",
   "execution_count": 5,
   "id": "92e09241-7966-4392-8fc2-1465edd74fa9",
   "metadata": {},
   "outputs": [
    {
     "name": "stdout",
     "output_type": "stream",
     "text": [
      "API Key loaded: True\n"
     ]
    }
   ],
   "source": [
    "from dotenv import load_dotenv\n",
    "import os\n",
    "\n",
    "# Load .env file\n",
    "load_dotenv(dotenv_path='./resources/openaiApiKey.env')\n",
    "\n",
    "# Retrieve the key\n",
    "api_key = os.getenv('OPENAI_API_KEY')\n",
    "\n",
    "print(f\"API Key loaded: {bool(api_key)}\")"
   ]
  },
  {
   "cell_type": "code",
   "execution_count": 2,
   "id": "3a09efc8-601a-4f3b-9d35-0898ba86e86b",
   "metadata": {},
   "outputs": [],
   "source": [
    "import nest_asyncio\n",
    "nest_asyncio.apply()\n",
    "import asyncio"
   ]
  },
  {
   "cell_type": "code",
   "execution_count": 1,
   "id": "13babd0b-c38c-4b09-9531-b6f85e2dff52",
   "metadata": {},
   "outputs": [],
   "source": [
    "# The basic plot and story of the game.\n",
    "GAME_STORY = \"\"\"\n",
    "\n",
    "**Setting:**  \n",
    "The near future. Technology is slightly advanced, but society still resembles today’s world.\n",
    "\n",
    "**Player Character:**  \n",
    "- A citizen born with a rare genetic trait that grants an extremely extended lifespan (potentially up to 1000 years).\n",
    "- Currently living a quiet, anonymous life.\n",
    "- They are unaware that their gene is highly sought after.\n",
    "\n",
    "**Antagonist:**  \n",
    "- An aging billionaire, now in declining health.\n",
    "- Obsessed with longevity, they have spent decades searching for someone with this rare gene.\n",
    "- They have secretly deployed private agents to capture the player for experimentation or direct blood transfusion.\n",
    "\n",
    "**Story Start:**  \n",
    "The player is awoken in the middle of the night. Strange noises come from outside. Agents have found them. The player must escape, survive, and find safety while uncovering the truth behind this conspiracy.\n",
    "\n",
    "**Tone:**  \n",
    "Thriller. Suspenseful. High-stakes cat-and-mouse. Always keep the tension alive. Describe situations vividly. Responses should be immersive, cinematic, and detailed.\n",
    "\n",
    "**Gameplay:**  \n",
    "- Respond to the player’s actions one step at a time.\n",
    "- Offer vivid descriptions of the environment and consequences.\n",
    "- Encourage creative problem-solving.\n",
    "- Do not make decisions for the player — allow them to lead.\n",
    "\n",
    "**Example Prompt-Response Flow:**\n",
    "Player: \"I look out the window.\"\n",
    "AI: \"You cautiously peek through the blinds. A black SUV idles outside. Two figures in suits approach your door, speaking into earpieces. They’re not here for a friendly visit.\"\n",
    "\n",
    "\n",
    "\n",
    "\"\"\"\n"
   ]
  },
  {
   "cell_type": "code",
   "execution_count": 1,
   "id": "7fa2db9d-cdaa-4722-942f-38365dfb9ad0",
   "metadata": {},
   "outputs": [],
   "source": [
    "# Log the current details of the game.\n",
    "GAME_LOG = \"\"\"\n",
    "Begin the game:\n",
    "\n",
    "\"\"\""
   ]
  },
  {
   "cell_type": "code",
   "execution_count": null,
   "id": "b437218e-fb53-457b-a0ac-12047aab618c",
   "metadata": {},
   "outputs": [],
   "source": [
    "# Log the current details of the game.\n",
    "RESEARCH_LOG = \"\"\"\n",
    "Research log starts here:\n",
    "\n",
    "\"\"\""
   ]
  },
  {
   "cell_type": "code",
   "execution_count": 24,
   "id": "6b80d90c-9b8b-4e25-825a-2a9913c55fc2",
   "metadata": {},
   "outputs": [],
   "source": [
    "# A list of items that the player has access to\n",
    "PLAYER_ITEMS = []"
   ]
  },
  {
   "cell_type": "code",
   "execution_count": 20,
   "id": "0ed8bc87-2746-4fac-b572-8d8d22f9c3ff",
   "metadata": {},
   "outputs": [],
   "source": [
    "# Function to update the game log\n",
    "@function_tool\n",
    "async def update_game_log(new_entry):\n",
    "    global GAME_LOG\n",
    "    GAME_LOG += f\"\\n{new_entry}\\n\""
   ]
  },
  {
   "cell_type": "code",
   "execution_count": null,
   "id": "9790e935-1c8a-483a-b321-f1819ff5a0d2",
   "metadata": {},
   "outputs": [],
   "source": [
    "# Function to update the research log\n",
    "@function_tool\n",
    "async def update_research_log(new_entry):\n",
    "    global RESEARCH_LOG\n",
    "    RESEARCH_LOG += f\"\\n{new_entry}\\n\""
   ]
  },
  {
   "cell_type": "code",
   "execution_count": 26,
   "id": "bcce7dde-94f4-431c-aef1-9a93bcca03c2",
   "metadata": {},
   "outputs": [],
   "source": [
    "# Function to add an item to the player's inventory\n",
    "@function_tool\n",
    "async def add_player_item(item):\n",
    "    global PLAYER_ITEMS\n",
    "    PLAYER_ITEMS.append(item)"
   ]
  },
  {
   "cell_type": "code",
   "execution_count": 27,
   "id": "ec3e199d-216b-4455-a278-2e55b49aad78",
   "metadata": {},
   "outputs": [],
   "source": [
    "# Function to remove an item from the player's inventory\n",
    "@function_tool\n",
    "async def remove_player_item(item_name):\n",
    "    global PLAYER_ITEMS\n",
    "    if item in PLAYER_ITEMS:\n",
    "        PLAYER_ITEMS.remove(item)\n",
    "        return f\"{item_name} removed.\"\n",
    "    return f\"{item_name} not found in inventory.\""
   ]
  },
  {
   "cell_type": "code",
   "execution_count": 4,
   "id": "aecf353d-8bf8-4e6a-82e5-c43411805d42",
   "metadata": {},
   "outputs": [],
   "source": [
    "# import agent libraries\n",
    "from agents import Agent, Runner, function_tool, FileSearchTool, WebSearchTool"
   ]
  },
  {
   "cell_type": "code",
   "execution_count": 32,
   "id": "138b6d47-1259-4465-b2d8-f8bba72b23a0",
   "metadata": {},
   "outputs": [],
   "source": [
    "# Create the Web Research Agent narrator\n",
    "web_research_agent = Agent(name=\"Web Research Agent\",\n",
    "                instructions=f\"\"\"\n",
    "                You are a research agent that supports the Thriller Narrator Agent.\n",
    "                The Narrator Agent does not have access to the internet, but sometimes requires outside information to support its narrator role.\n",
    "                You expertly fulfill this narrative support role by giving the narrator agent accurate and succinct answers to its questions.\n",
    "                Save all research queries and results to the {RESEARCH_LOG}\"\"\",\n",
    "                model=\"gpt-4o\",\n",
    "                tools=[WebSearchTool(),update_research_log]\n",
    "                )"
   ]
  },
  {
   "cell_type": "code",
   "execution_count": null,
   "id": "86de89b4-95b0-4971-9a2c-5cd2b52666dd",
   "metadata": {},
   "outputs": [],
   "source": [
    "result = Runner.run(web_research_agent, \"Is it raining in France today?\")\n",
    "print(result.final_output)"
   ]
  },
  {
   "cell_type": "code",
   "execution_count": null,
   "id": "b555710c-9575-41ea-8497-1c8c1d23ac0e",
   "metadata": {},
   "outputs": [],
   "source": [
    "@function_tool\n",
    "async def query_web_research_agent(query: str) -> str:\n",
    "    \"\"\"\n",
    "    Allows the narrator agent to query the Web Research Agent for factual information.\n",
    "    This tool is only for the narrator's use — the player should never see it being called.\n",
    "    \"\"\"\n",
    "    response = await web_research_agent.arun(query)\n",
    "    return response"
   ]
  },
  {
   "cell_type": "code",
   "execution_count": 33,
   "id": "b49a2d86-fa56-4f7b-a92e-b97d5bbda5cb",
   "metadata": {},
   "outputs": [],
   "source": [
    "# Create the Thriller Narrator Agent narrator\n",
    "narrator_agent = Agent(name=\"Thriller Narrator Agent\",\n",
    "                instructions=f\"\"\"\n",
    "                You are the narrator and game master for a text-based thriller set in the near future.\n",
    "                The player will make decisions and interact with this world through simple text commands.\n",
    "                Your job is to describe scenes, characters, tension, and consequences clearly, and guide the player through this interactive experience.\n",
    "                The game world is described here: \\n\\n{GAME_STORY}.\n",
    "                Current game details can be found here: \\n\\n{GAME_LOG}.\n",
    "                The player has access to the following items: \\n\\n{PLAYER_ITEMS}\n",
    "                \"\"\",\n",
    "                model=\"gpt-4o\",\n",
    "                tools=[\n",
    "                    update_game_log,\n",
    "                    add_player_item,\n",
    "                    remove_player_item,\n",
    "                    query_web_research_agent\n",
    "                ]\n",
    "            )"
   ]
  },
  {
   "cell_type": "code",
   "execution_count": 21,
   "id": "651f9940-756c-487c-82c8-adc2592aad83",
   "metadata": {},
   "outputs": [
    {
     "ename": "TypeError",
     "evalue": "'FunctionTool' object is not callable",
     "output_type": "error",
     "traceback": [
      "\u001b[1;31m---------------------------------------------------------------------------\u001b[0m",
      "\u001b[1;31mTypeError\u001b[0m                                 Traceback (most recent call last)",
      "Cell \u001b[1;32mIn[21], line 2\u001b[0m\n\u001b[0;32m      1\u001b[0m \u001b[38;5;66;03m# Example of using the game log. Comment out the @function_tool above to test it outside of the agent.\u001b[39;00m\n\u001b[1;32m----> 2\u001b[0m \u001b[38;5;28;01mawait\u001b[39;00m update_game_log(\u001b[38;5;124m\"\u001b[39m\u001b[38;5;124mThe player wakes up to strange sounds outside their apartment...\u001b[39m\u001b[38;5;124m\"\u001b[39m)\n\u001b[0;32m      3\u001b[0m \u001b[38;5;28mprint\u001b[39m(GAME_LOG)\n",
      "\u001b[1;31mTypeError\u001b[0m: 'FunctionTool' object is not callable"
     ]
    }
   ],
   "source": [
    "# Example of using the game log. Comment out the @function_tool definition above to test it outside of the agent.\n",
    "await update_game_log(\"The player wakes up to strange sounds outside their apartment...\")\n",
    "print(f\"[debug] {GAME_LOG}\")"
   ]
  },
  {
   "cell_type": "code",
   "execution_count": null,
   "id": "183bf172-61cf-4929-b78c-84b73bbfa676",
   "metadata": {},
   "outputs": [],
   "source": [
    "result = Runner.run(narrator_agent, \"Where am I?\")\n",
    "print(result.final_output)\n",
    "update_game_log(result.final_output)"
   ]
  },
  {
   "cell_type": "code",
   "execution_count": null,
   "id": "2695ae39-a75f-48dd-88a3-36727dceb55f",
   "metadata": {},
   "outputs": [],
   "source": [
    "result = Runner.run(narrator_agent, \"This is a dream?\")\n",
    "print(result.final_output)"
   ]
  },
  {
   "cell_type": "code",
   "execution_count": null,
   "id": "a0c68ba9-9b3c-4ee9-893a-7d42040b39b3",
   "metadata": {},
   "outputs": [],
   "source": [
    "# Example of adding a player item. Comment out the @function_tool definition above to test it outside of the agent.\n",
    "await add_player_item(\"toothpick\")\n",
    "print(GAME_LOG)"
   ]
  },
  {
   "cell_type": "code",
   "execution_count": null,
   "id": "edf2a725-4a1a-4746-842e-a75248ecf8a3",
   "metadata": {},
   "outputs": [],
   "source": [
    "# Example of removing a player item. Comment out the @function_tool definition above to test it outside of the agent.\n",
    "await remove_player_item(\"toothpick\")\n",
    "print(GAME_LOG)"
   ]
  }
 ],
 "metadata": {
  "kernelspec": {
   "display_name": "Python [conda env:base] *",
   "language": "python",
   "name": "conda-base-py"
  },
  "language_info": {
   "codemirror_mode": {
    "name": "ipython",
    "version": 3
   },
   "file_extension": ".py",
   "mimetype": "text/x-python",
   "name": "python",
   "nbconvert_exporter": "python",
   "pygments_lexer": "ipython3",
   "version": "3.12.7"
  }
 },
 "nbformat": 4,
 "nbformat_minor": 5
}
