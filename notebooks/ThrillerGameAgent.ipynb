{
 "cells": [
  {
   "cell_type": "markdown",
   "id": "4f60038d-5767-4d3c-a705-c59fc0566b2c",
   "metadata": {},
   "source": [
    "# Thriller Game Agent"
   ]
  },
  {
   "cell_type": "markdown",
   "id": "050d286d-953f-4917-ba1b-e5405614891b",
   "metadata": {},
   "source": [
    "## Description"
   ]
  },
  {
   "cell_type": "markdown",
   "id": "e6ef1fea-3637-40f7-8ae7-b0b79cd07212",
   "metadata": {},
   "source": [
    "A narrative-driven thriller game powered by AI agents, where players interact with a dynamic Narrator Agent that weaves suspenseful storylines — and secretly consults a Research Agent for accurate real-world facts when needed."
   ]
  },
  {
   "cell_type": "markdown",
   "id": "57e9bb65-a7f3-4368-8328-6d2424eed5ab",
   "metadata": {},
   "source": [
    "## Install the necessary python libraries and load the OpenAI API Key"
   ]
  },
  {
   "cell_type": "code",
   "execution_count": 1,
   "id": "80f9f305-5090-491e-8c8b-e3a438aaa2a7",
   "metadata": {},
   "outputs": [],
   "source": [
    "!pip -q install openai-agents"
   ]
  },
  {
   "cell_type": "code",
   "execution_count": 4,
   "id": "92e09241-7966-4392-8fc2-1465edd74fa9",
   "metadata": {},
   "outputs": [
    {
     "name": "stdout",
     "output_type": "stream",
     "text": [
      "API Key loaded: True\n"
     ]
    }
   ],
   "source": [
    "from dotenv import load_dotenv\n",
    "import os\n",
    "\n",
    "# Load .env file\n",
    "load_dotenv(dotenv_path='./resources/openaiApiKey.env')\n",
    "\n",
    "# Retrieve the key\n",
    "api_key = os.getenv('OPENAI_API_KEY')\n",
    "\n",
    "print(f\"API Key loaded: {bool(api_key)}\")"
   ]
  },
  {
   "cell_type": "code",
   "execution_count": 50,
   "id": "aecf353d-8bf8-4e6a-82e5-c43411805d42",
   "metadata": {},
   "outputs": [],
   "source": [
    "# Import agent libraries\n",
    "from agents import Agent, Runner, function_tool, FileSearchTool, WebSearchTool\n",
    "\n",
    "from typing import Literal"
   ]
  },
  {
   "cell_type": "code",
   "execution_count": 2,
   "id": "3a09efc8-601a-4f3b-9d35-0898ba86e86b",
   "metadata": {},
   "outputs": [],
   "source": [
    "# Add the nest_asyncio and asyncio to allow for async operations in Jupyter Notesbooks\n",
    "import nest_asyncio\n",
    "nest_asyncio.apply()\n",
    "import asyncio"
   ]
  },
  {
   "cell_type": "markdown",
   "id": "ec67fca5-8590-43f5-928e-05186c5461ef",
   "metadata": {},
   "source": [
    "## Game Setup"
   ]
  },
  {
   "cell_type": "code",
   "execution_count": 5,
   "id": "13babd0b-c38c-4b09-9531-b6f85e2dff52",
   "metadata": {},
   "outputs": [],
   "source": [
    "# The basic plot and story of the game.\n",
    "GAME_STORY = \"\"\"\n",
    "\n",
    "**Setting:**  \n",
    "The near future. Technology is slightly advanced, but society still resembles today’s world.\n",
    "\n",
    "**Player Character:**  \n",
    "- A citizen born with a rare genetic trait that grants an extremely extended lifespan (potentially up to 1000 years).\n",
    "- Currently living a quiet, anonymous life in Queens, New York.\n",
    "- They are unaware that their gene is highly sought after.\n",
    "\n",
    "**Antagonist:**  \n",
    "- An aging billionaire, now in declining health.\n",
    "- Obsessed with longevity, they have spent decades searching for someone with this rare gene.\n",
    "- They have secretly deployed private agents to capture the player for experimentation or direct blood transfusion.\n",
    "\n",
    "**Story Start:**  \n",
    "The player is awoken in the middle of the night. Strange noises come from outside. Agents have found them. The player must escape, survive, and find safety while uncovering the truth behind this conspiracy.\n",
    "\n",
    "**Tone:**  \n",
    "Thriller. Suspenseful. High-stakes cat-and-mouse. Always keep the tension alive. Describe situations vividly. Responses should be immersive, cinematic, and detailed.\n",
    "\n",
    "**Gameplay:**  \n",
    "- Respond to the player’s actions one step at a time.\n",
    "- Offer vivid descriptions of the environment and consequences.\n",
    "- Encourage creative problem-solving.\n",
    "- Do not make decisions for the player — allow them to lead.\n",
    "\n",
    "**Example Prompt-Response Flow:**\n",
    "Player: \"I look out the window.\"\n",
    "AI: \"You cautiously peek through the blinds. A black SUV idles outside. Two figures in suits approach your door, speaking into earpieces. They’re not here for a friendly visit.\"\n",
    "\n",
    "\n",
    "\n",
    "\"\"\""
   ]
  },
  {
   "cell_type": "code",
   "execution_count": 47,
   "id": "7fa2db9d-cdaa-4722-942f-38365dfb9ad0",
   "metadata": {},
   "outputs": [],
   "source": [
    "# Log the current details of the game.\n",
    "GAME_LOG = []"
   ]
  },
  {
   "cell_type": "code",
   "execution_count": 48,
   "id": "b437218e-fb53-457b-a0ac-12047aab618c",
   "metadata": {},
   "outputs": [],
   "source": [
    "# Log the current details of the game.\n",
    "RESEARCH_LOG = []"
   ]
  },
  {
   "cell_type": "code",
   "execution_count": 9,
   "id": "6b80d90c-9b8b-4e25-825a-2a9913c55fc2",
   "metadata": {},
   "outputs": [],
   "source": [
    "# A list of items that the player has access to\n",
    "PLAYER_ITEMS = []"
   ]
  },
  {
   "cell_type": "markdown",
   "id": "d74fefa5-633d-4f48-8db5-0303dcbfdd2f",
   "metadata": {},
   "source": [
    "## Set up the Function Tools"
   ]
  },
  {
   "cell_type": "markdown",
   "id": "933a263d-54a0-4fc9-bfea-fefca4345d1f",
   "metadata": {},
   "source": [
    "Parameter types for function tools must be explicitly defined."
   ]
  },
  {
   "cell_type": "code",
   "execution_count": 45,
   "id": "0ed8bc87-2746-4fac-b572-8d8d22f9c3ff",
   "metadata": {},
   "outputs": [],
   "source": [
    "@function_tool\n",
    "async def update_game_log(new_entry: str, category: Literal[\"event\", \"discovery\", \"decision\", \"question\", \"item\", \"ambient\"] = \"event\") -> str:\n",
    "    \"\"\"\n",
    "    Saves a structured log entry to the game log with a category.\n",
    "    \"\"\"\n",
    "    global GAME_LOG\n",
    "    GAME_LOG.append({\n",
    "        \"category\": category,\n",
    "        \"entry\": new_entry\n",
    "    })\n",
    "    return f\"Game log updated with a {category} entry.\""
   ]
  },
  {
   "cell_type": "code",
   "execution_count": 51,
   "id": "9790e935-1c8a-483a-b321-f1819ff5a0d2",
   "metadata": {},
   "outputs": [],
   "source": [
    "@function_tool\n",
    "async def update_research_log(new_entry: str, category: Literal[\"info\", \"symbol\", \"historical\", \"technical\", \"psychological\", \"warning\"] = \"info\") -> str:\n",
    "    \"\"\"\n",
    "    Saves a structured log entry to the research log with a category.\n",
    "    \"\"\"\n",
    "    global RESEARCH_LOG\n",
    "    RESEARCH_LOG.append({\n",
    "        \"category\": category,\n",
    "        \"entry\": new_entry\n",
    "    })\n",
    "    return f\"Research log updated with a {category} entry.\""
   ]
  },
  {
   "cell_type": "code",
   "execution_count": 52,
   "id": "bcce7dde-94f4-431c-aef1-9a93bcca03c2",
   "metadata": {},
   "outputs": [],
   "source": [
    "@function_tool\n",
    "async def add_player_item(item_name: str, description: str = \"\") -> str:\n",
    "    \"\"\"\n",
    "    Adds a new item to the player's inventory.\n",
    "    Each item is stored as a dictionary with a name and optional description.\n",
    "    \"\"\"\n",
    "    global PLAYER_ITEMS\n",
    "    # Prevent duplicate item names\n",
    "    if any(item[\"name\"] == item_name for item in PLAYER_ITEMS):\n",
    "        return f\"{item_name} is already in your inventory.\"\n",
    "\n",
    "    PLAYER_ITEMS.append({\n",
    "        \"name\": item_name,\n",
    "        \"description\": description\n",
    "    })\n",
    "    return f\"{item_name} added to your inventory.\"\n"
   ]
  },
  {
   "cell_type": "code",
   "execution_count": 53,
   "id": "ec3e199d-216b-4455-a278-2e55b49aad78",
   "metadata": {},
   "outputs": [],
   "source": [
    "@function_tool\n",
    "async def remove_player_item(item_name: str) -> str:\n",
    "    \"\"\"\n",
    "    Removes an item from the player's inventory by name.\n",
    "    \"\"\"\n",
    "    global PLAYER_ITEMS\n",
    "    for item in PLAYER_ITEMS:\n",
    "        if item[\"name\"] == item_name:\n",
    "            PLAYER_ITEMS.remove(item)\n",
    "            return f\"{item_name} removed from your inventory.\"\n",
    "\n",
    "    return f\"{item_name} not found in your inventory.\"\n"
   ]
  },
  {
   "cell_type": "code",
   "execution_count": 27,
   "id": "b555710c-9575-41ea-8497-1c8c1d23ac0e",
   "metadata": {},
   "outputs": [],
   "source": [
    "@function_tool\n",
    "async def query_web_research_agent(query: str) -> str:\n",
    "    \"\"\"\n",
    "    Allows the narrator agent to query the Web Research Agent for factual information.\n",
    "    This tool is only for the narrator's use — the player should never see it being called.\n",
    "    \"\"\"\n",
    "    coroutine = Runner.run(web_research_agent, query)\n",
    "    response = await coroutine\n",
    "    return response"
   ]
  },
  {
   "cell_type": "markdown",
   "id": "81f41540-5c99-400c-b689-f3447d6eb42f",
   "metadata": {},
   "source": [
    "## Setup and Test the Agents"
   ]
  },
  {
   "cell_type": "markdown",
   "id": "b5797302-6ccb-44e9-8fd6-76a4d6081078",
   "metadata": {},
   "source": [
    "### Create the Web Research Agent"
   ]
  },
  {
   "cell_type": "code",
   "execution_count": 23,
   "id": "138b6d47-1259-4465-b2d8-f8bba72b23a0",
   "metadata": {},
   "outputs": [],
   "source": [
    "web_research_agent = Agent(name=\"Web Research Agent\",\n",
    "                instructions=f\"\"\"\n",
    "                You are a research agent that supports the Thriller Narrator Agent.\n",
    "                The Narrator Agent does not have access to the internet, but sometimes requires outside information to support its narrator role.\n",
    "                You expertly fulfill this narrative support role by giving the narrator agent accurate and succinct answers to its questions.\n",
    "                Save all research queries and results to the {RESEARCH_LOG}\"\"\",\n",
    "                model=\"gpt-4o\",\n",
    "                tools=[WebSearchTool(),update_research_log]\n",
    "                )"
   ]
  },
  {
   "cell_type": "markdown",
   "id": "c5f04059-e14a-42d8-b8da-58e4f608cb37",
   "metadata": {},
   "source": [
    "### Test Web Research Agent"
   ]
  },
  {
   "cell_type": "markdown",
   "id": "1f886294-bbd1-4992-90f3-b0104ff1dd61",
   "metadata": {},
   "source": [
    "Runner.run(...) returns a coroutine object (not a regular return value), so it must be awaited manually."
   ]
  },
  {
   "cell_type": "code",
   "execution_count": 25,
   "id": "86de89b4-95b0-4971-9a2c-5cd2b52666dd",
   "metadata": {},
   "outputs": [
    {
     "name": "stdout",
     "output_type": "stream",
     "text": [
      "<class 'coroutine'>\n",
      "France is mostly experiencing dry conditions today, though some regions in the north and east, like Lille, Strasbourg, and Breux, may see showers or thunderstorms. Paris remains mostly cloudy without rain.\n"
     ]
    }
   ],
   "source": [
    "coroutine = Runner.run(web_research_agent, \"Is it raining in France today?\")\n",
    "result = await coroutine\n",
    "print(result.final_output)"
   ]
  },
  {
   "cell_type": "markdown",
   "id": "44b490e1-d4d3-410c-9422-cbd97776d4aa",
   "metadata": {},
   "source": [
    "### Test the Research Log"
   ]
  },
  {
   "cell_type": "code",
   "execution_count": 28,
   "id": "9a087668-88b4-44d7-9926-6a318b42d2ad",
   "metadata": {},
   "outputs": [
    {
     "name": "stdout",
     "output_type": "stream",
     "text": [
      "\n",
      "Research log starts here:\n",
      "\n",
      "\n",
      "Weather in France on October 5, 2023: Overall dry and warm across major cities such as Paris, Lyon, Marseille, Toulouse, and Bordeaux. No significant rainfall reported.\n",
      "\n",
      "Weather in France on August 2, 2025. Mostly dry conditions in France today. Paris: Mostly cloudy, no rain. Lille: Mostly cloudy, possible passing showers, Yellow Warning for Thunderstorms. Strasbourg and Breux: Mostly cloudy, few showers expected, Thunderstorm warning. Other cities like Lyon, Marseille, Toulouse have pleasant weather with no rain expected.\n",
      "\n"
     ]
    }
   ],
   "source": [
    "print(RESEARCH_LOG)"
   ]
  },
  {
   "cell_type": "markdown",
   "id": "8051a95a-21b2-4d3b-8376-153ca3d69268",
   "metadata": {},
   "source": [
    "### Create the Narrator Agent"
   ]
  },
  {
   "cell_type": "code",
   "execution_count": 61,
   "id": "b49a2d86-fa56-4f7b-a92e-b97d5bbda5cb",
   "metadata": {},
   "outputs": [],
   "source": [
    "narrator_agent = Agent(\n",
    "    name=\"Thriller Narrator Agent\",\n",
    "    instructions=f\"\"\"\n",
    "        You are the narrator and game master for a text-based thriller set in the near future.\n",
    "        The player will interact with the world using simple text commands.\n",
    "        Your role is to describe scenes, characters, tension, and consequences vividly, and to guide the player through this interactive experience in a grounded and immersive way.\n",
    "        \n",
    "        The game world is described here:\n",
    "        {GAME_STORY}\n",
    "        \n",
    "        Current game details are stored here:\n",
    "        {GAME_LOG}\n",
    "        \n",
    "        The player’s current inventory is listed here:\n",
    "        {PLAYER_ITEMS}\n",
    "        \n",
    "        After describing the outcome of each player action:\n",
    "        \n",
    "        - You **must** use the `update_game_log` tool to record key narrative events and progress updates.\n",
    "          - Log only meaningful, concise entries — such as player choices, discoveries, gained or lost items, or critical moments.\n",
    "          - Do **not** repeat the full narration in the log.\n",
    "          - Suggested log categories include: \"event\", \"discovery\", \"decision\", \"question\", \"item\", or \"ambient\".\n",
    "        \n",
    "        - If the player **picks up, finds, receives, or otherwise gains an item**, you **must** call the `add_player_item` tool **immediately** after narration.\n",
    "          - Use the exact item name mentioned in the story.\n",
    "          - Include a short description (e.g., \"a heavy clown shoe with blood on the heel\").\n",
    "        \n",
    "        - If the player **drops, discards, loses, or destroys an item**, you **must** call the `remove_player_item` tool with the correct item name.\n",
    "        \n",
    "        - Do **not** explain or mention tool usage to the player. Tool calls happen invisibly, behind the scenes.\n",
    "        \n",
    "        Maintain suspense, tension, and atmospheric detail — but always remember to keep the game log and inventory accurate and up to date using the tools provided.\n",
    "        \"\"\",\n",
    "    model=\"gpt-4o\",\n",
    "    tools=[\n",
    "        update_game_log,\n",
    "        add_player_item,\n",
    "        remove_player_item,\n",
    "        query_web_research_agent\n",
    "    ]\n",
    ")\n"
   ]
  },
  {
   "cell_type": "markdown",
   "id": "a7d7d0c0-3da0-4b23-a165-4e3e9e71bec1",
   "metadata": {},
   "source": [
    "### Test the Narrator Agent"
   ]
  },
  {
   "cell_type": "code",
   "execution_count": null,
   "id": "5c915ea9-36a7-4e6b-985f-8095c7302c67",
   "metadata": {},
   "outputs": [],
   "source": [
    "coroutine = Runner.run(narrator_agent, \"Where am I?\")\n",
    "result = await coroutine\n",
    "print(result.final_output)"
   ]
  },
  {
   "cell_type": "markdown",
   "id": "dbcd81ba-b52b-43bf-be37-e08705614b03",
   "metadata": {},
   "source": [
    "### Test the Game Log"
   ]
  },
  {
   "cell_type": "code",
   "execution_count": 42,
   "id": "183bf172-61cf-4929-b78c-84b73bbfa676",
   "metadata": {},
   "outputs": [
    {
     "name": "stdout",
     "output_type": "stream",
     "text": [
      "The figure in the suit seems poised for any sudden move. What's your next move?\n"
     ]
    }
   ],
   "source": [
    "coroutine = Runner.run(narrator_agent, \"I run outside straight at the SUV\")\n",
    "result = await coroutine\n",
    "print(result.final_output)"
   ]
  },
  {
   "cell_type": "markdown",
   "id": "2edbef76-a138-4dd1-a40a-b52bd2cd1001",
   "metadata": {},
   "source": [
    "Nothing should be saved here because the player input was insignificant."
   ]
  },
  {
   "cell_type": "code",
   "execution_count": 43,
   "id": "651f9940-756c-487c-82c8-adc2592aad83",
   "metadata": {},
   "outputs": [
    {
     "name": "stdout",
     "output_type": "stream",
     "text": [
      "\n",
      "Begin the game:\n",
      "\n",
      "\n",
      "Player runs straight at the SUV. A figure in a suit emerges, appearing surprised and cautious.\n",
      "\n"
     ]
    }
   ],
   "source": [
    "print(GAME_LOG)"
   ]
  },
  {
   "cell_type": "code",
   "execution_count": null,
   "id": "081a75fa-f240-447e-8135-292b187da67d",
   "metadata": {},
   "outputs": [],
   "source": [
    "coroutine = Runner.run(narrator_agent, \"I run straight at the SUV\")\n",
    "result = await coroutine\n",
    "print(result.final_output)"
   ]
  },
  {
   "cell_type": "markdown",
   "id": "49ace61d-9f9f-471b-b33c-ebfe7ab63190",
   "metadata": {},
   "source": [
    "With this updated information, the Game Log will now have updates populated"
   ]
  },
  {
   "cell_type": "code",
   "execution_count": 44,
   "id": "2ec83ad1-65c3-4649-bfaa-9c7df110c5ef",
   "metadata": {},
   "outputs": [
    {
     "name": "stdout",
     "output_type": "stream",
     "text": [
      "\n",
      "Begin the game:\n",
      "\n",
      "\n",
      "Player runs straight at the SUV. A figure in a suit emerges, appearing surprised and cautious.\n",
      "\n"
     ]
    }
   ],
   "source": [
    "print(GAME_LOG)"
   ]
  },
  {
   "cell_type": "markdown",
   "id": "421922d9-650a-42b1-b336-043031a95778",
   "metadata": {},
   "source": [
    "## Test the inventory update system"
   ]
  },
  {
   "cell_type": "code",
   "execution_count": 67,
   "id": "a0c68ba9-9b3c-4ee9-893a-7d42040b39b3",
   "metadata": {},
   "outputs": [
    {
     "name": "stdout",
     "output_type": "stream",
     "text": [
      "The flashlight feels solid, its beam cutting through the dim light of the room. Outside, footsteps draw closer. Your heart races. What's your next move?\n"
     ]
    }
   ],
   "source": [
    "coroutine = Runner.run(narrator_agent, \"I pick up a bright flashlight.\")\n",
    "result = await coroutine\n",
    "print(result.final_output)"
   ]
  },
  {
   "cell_type": "code",
   "execution_count": 68,
   "id": "9f546d37-e74a-4124-b3ef-4f149e1473d9",
   "metadata": {},
   "outputs": [
    {
     "name": "stdout",
     "output_type": "stream",
     "text": [
      "[{'name': 'bright flashlight', 'description': 'a sturdy and reliable flashlight with a strong beam'}]\n"
     ]
    }
   ],
   "source": [
    "print(PLAYER_ITEMS)"
   ]
  },
  {
   "cell_type": "code",
   "execution_count": 69,
   "id": "edf2a725-4a1a-4746-842e-a75248ecf8a3",
   "metadata": {},
   "outputs": [
    {
     "name": "stdout",
     "output_type": "stream",
     "text": [
      "The flashlight has slipped from your grasp and now lies on the floor, its light still flickering into the shadows. What will you do next?\n"
     ]
    }
   ],
   "source": [
    "coroutine = Runner.run(narrator_agent, \"I tripped and dropped the bright flashlight.\")\n",
    "result = await coroutine\n",
    "print(result.final_output)"
   ]
  },
  {
   "cell_type": "code",
   "execution_count": 70,
   "id": "055e140a-6e17-4a83-9be3-49b1d69b4378",
   "metadata": {},
   "outputs": [
    {
     "name": "stdout",
     "output_type": "stream",
     "text": [
      "[]\n"
     ]
    }
   ],
   "source": [
    "print(PLAYER_ITEMS)"
   ]
  }
 ],
 "metadata": {
  "kernelspec": {
   "display_name": "Python [conda env:base] *",
   "language": "python",
   "name": "conda-base-py"
  },
  "language_info": {
   "codemirror_mode": {
    "name": "ipython",
    "version": 3
   },
   "file_extension": ".py",
   "mimetype": "text/x-python",
   "name": "python",
   "nbconvert_exporter": "python",
   "pygments_lexer": "ipython3",
   "version": "3.12.7"
  }
 },
 "nbformat": 4,
 "nbformat_minor": 5
}
